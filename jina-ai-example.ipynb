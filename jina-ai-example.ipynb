{
 "cells": [
  {
   "cell_type": "code",
   "execution_count": 1,
   "id": "9a721762",
   "metadata": {},
   "outputs": [],
   "source": [
    "from jina import Flow, Executor, requests, Document, DocumentArray\n",
    "import pandas as pd\n",
    "import numpy as np "
   ]
  },
  {
   "cell_type": "markdown",
   "id": "9ed4fa0e",
   "metadata": {},
   "source": [
    "### 3 main fundamental jina concepts \n",
    "\n",
    "* document\n",
    "* executor \n",
    "* flow"
   ]
  },
  {
   "cell_type": "code",
   "execution_count": 2,
   "id": "91cd684c",
   "metadata": {},
   "outputs": [
    {
     "data": {
      "text/html": [
       "<div>\n",
       "<style scoped>\n",
       "    .dataframe tbody tr th:only-of-type {\n",
       "        vertical-align: middle;\n",
       "    }\n",
       "\n",
       "    .dataframe tbody tr th {\n",
       "        vertical-align: top;\n",
       "    }\n",
       "\n",
       "    .dataframe thead th {\n",
       "        text-align: right;\n",
       "    }\n",
       "</style>\n",
       "<table border=\"1\" class=\"dataframe\">\n",
       "  <thead>\n",
       "    <tr style=\"text-align: right;\">\n",
       "      <th></th>\n",
       "      <th>product_name</th>\n",
       "      <th>product_category</th>\n",
       "      <th>description</th>\n",
       "    </tr>\n",
       "  </thead>\n",
       "  <tbody>\n",
       "    <tr>\n",
       "      <th>0</th>\n",
       "      <td>HILL'S PRESCRIPTION DIET u/d Urinary Care Dog ...</td>\n",
       "      <td>food</td>\n",
       "      <td>Prescription Diet u/d is clinical nutrition sp...</td>\n",
       "    </tr>\n",
       "    <tr>\n",
       "      <th>1</th>\n",
       "      <td>adidas Predator Freak .2 Firm Ground Soccer Cl...</td>\n",
       "      <td>footwear</td>\n",
       "      <td>SUPPORTIVE SOCCER CLEATS BUILT FOR CONTROL. Yo...</td>\n",
       "    </tr>\n",
       "    <tr>\n",
       "      <th>2</th>\n",
       "      <td>Wysong Uretic - Dry Natural Food for Cats</td>\n",
       "      <td>food</td>\n",
       "      <td>Uretic has achieved extraordinary results in t...</td>\n",
       "    </tr>\n",
       "    <tr>\n",
       "      <th>3</th>\n",
       "      <td>adidas Firm Ground Predator 20.3 Unisex-child</td>\n",
       "      <td>footwear</td>\n",
       "      <td>You're not cheating the system. You're just be...</td>\n",
       "    </tr>\n",
       "    <tr>\n",
       "      <th>4</th>\n",
       "      <td>Kaisi Precision Screwdriver Set Professional E...</td>\n",
       "      <td>electronics</td>\n",
       "      <td>- Forged from high-strength chrome vanadium s...</td>\n",
       "    </tr>\n",
       "  </tbody>\n",
       "</table>\n",
       "</div>"
      ],
      "text/plain": [
       "                                        product_name product_category  \\\n",
       "0  HILL'S PRESCRIPTION DIET u/d Urinary Care Dog ...             food   \n",
       "1  adidas Predator Freak .2 Firm Ground Soccer Cl...         footwear   \n",
       "2          Wysong Uretic - Dry Natural Food for Cats             food   \n",
       "3      adidas Firm Ground Predator 20.3 Unisex-child         footwear   \n",
       "4  Kaisi Precision Screwdriver Set Professional E...      electronics   \n",
       "\n",
       "                                         description  \n",
       "0  Prescription Diet u/d is clinical nutrition sp...  \n",
       "1  SUPPORTIVE SOCCER CLEATS BUILT FOR CONTROL. Yo...  \n",
       "2  Uretic has achieved extraordinary results in t...  \n",
       "3  You're not cheating the system. You're just be...  \n",
       "4   - Forged from high-strength chrome vanadium s...  "
      ]
     },
     "execution_count": 2,
     "metadata": {},
     "output_type": "execute_result"
    }
   ],
   "source": [
    "df = pd.read_csv('../datasets/all_products.csv')\n",
    "df.head()"
   ]
  },
  {
   "cell_type": "code",
   "execution_count": 3,
   "id": "210df249",
   "metadata": {},
   "outputs": [
    {
     "data": {
      "text/plain": [
       "(25873, 3)"
      ]
     },
     "execution_count": 3,
     "metadata": {},
     "output_type": "execute_result"
    }
   ],
   "source": [
    "df = df.drop_duplicates().dropna()\n",
    "df.shape"
   ]
  },
  {
   "cell_type": "markdown",
   "id": "daefc6c3",
   "metadata": {},
   "source": [
    "### sample products"
   ]
  },
  {
   "cell_type": "code",
   "execution_count": 4,
   "id": "9ef730f7",
   "metadata": {},
   "outputs": [
    {
     "name": "stdout",
     "output_type": "stream",
     "text": [
      "\n",
      "       product name : HILL'S PRESCRIPTION DIET u/d Urinary Care Dog Food        \n",
      "\n",
      "Prescription Diet u/d is clinical nutrition specially formulated to reduce risk of urate and cystine stones in dogs. It’s made in the USA with global ingredients you can trust, and was developed by Hill’s nutritionists and veterinarians. Please consult your veterinarian for further information on how Prescription Diet foods can help your dog continue to enjoy a happy and active life.\n",
      "\n",
      "--------------------------------------------------------------------------------\n",
      "\n",
      "       product name : adidas Predator Freak .2 Firm Ground Soccer Cleats        \n",
      "\n",
      "SUPPORTIVE SOCCER CLEATS BUILT FOR CONTROL. You can't change the game till you let the game change you. Every match is a chance to be bigger, better. More in control. Unleash your full force of nature with Predator Freak. The Demonskin 2.0 on these adidas soccer cleats give you superhuman ball control. The textile upper has a synthetic leather strike zone. It rides on an outsole tuned for precise traction on firm ground.\n",
      "\n",
      "--------------------------------------------------------------------------------\n",
      "\n",
      "            product name : Wysong Uretic - Dry Natural Food for Cats            \n",
      "\n",
      "Uretic has achieved extraordinary results in tens of thousands through multiple generations for over thirty years. It was created by Dr. Wysong and owes its popularity solely to veterinary recommendation and word of mouth. By targeting wellness, immune and urinary systems, Uretic has proven itself as a diet that creates robust vitality. This improved formulation is designed to take advantage of new processing methods to preserve natural value, and nutritional advances related to epigenetics and nutrigenomics. Uretic now contains higher levels of fresh/frozen and dried meats and organs, protein, and fat, and a comprehensive spectrum and higher levels of micronutrients/nutraceuticals including prebiotics, probiotics, enzymes, omega-3s, antioxidants and more. Excess minerals are eliminated, natural sourced, urinary-important methionine are added, and small quantities of fruits and vegetables mimic what may be consumed in the viscera of prey, and contribute important vitamins, minerals, antioxidants and other nutrients.\n",
      "\n",
      "--------------------------------------------------------------------------------\n",
      "\n",
      "          product name : adidas Firm Ground Predator 20.3 Unisex-child          \n",
      "\n",
      "You're not cheating the system. You're just bending the rules. Find your unfair advantage and transform your game with all-new adidas Predator. The soft upper on these juniors' laceless football boots have a mid cut that supports your ankle and raised elements that add swerve to strikes. Take control in Predator 20.3 Firm Ground Boots.\n",
      "\n",
      "--------------------------------------------------------------------------------\n",
      "\n",
      " product name : Kaisi Precision Screwdriver Set Professional Electronics Repair Tool Kit with Phillips Flathead and Torx Star Magnetic Bit Compatible For iPhone, iMac, MacBook, Laptop, Tablet PC and More - 18 Piece \n",
      "\n",
      " - Forged from high-strength chrome vanadium steel by a new process, every screwdrivers in the repair toolkit has been re-engineered to be it better.,  Want to know what complete independence feels like, Do-It-Yourself?,  ★With this 18-piece, professional-grade tool kit, you'll never need to put your tablet or smart phone's future in the hands of a stranger.,  ★Ten different screwdrivers fit the most screw heads commonly used in modern electronics manufacture, and the additional tools help to safely and easily remove the cover , from your iPhone, Samsung, LG, Mi, Huawei, Motorola, iPad, iMac, MacBook, Laptops, Tablet PC or whatever other electronic device and hard drives, Xbox, game handles you're repairing.,  ★Experience true freedom and save money at the same time with your own 18-piece tool kit.,  , 1 x T3 Torx Screwdriver, 1 x T4 Torx Screwdriver, 1 x T5 Torx Screwdriver,  1 x TH6 Torx Security Screwdriver, 1 x TH8 Torx Security Screwdriver, 1 x 2.0 Flathead Screwdriver,  1 x 1.5 Phillips Head Screwdriver,  1 x 1.2 Phillips Head Screwdriver,  1 x 0.8 Star Screwdriver,  1 x 0.6Y Tri-point Y000 Screwdriver (For iPhone 7, 8, Plus),  1 x Nylon Fiber Spudger,  1 x Blue Plastic Spudger,  1 x Rubber Suction Cup,  1 x SIM Card Tray Opener,  2 x ESD-Safe Tweezers, 2 x Triangle Paddle,  Kaisi offers 2-years worry-free warranty, 90-days free refund and replacement. , Have any questions? please do not hesitate to contact us, friendly and efficient e-mail reply within 12 hours.\n",
      "\n",
      "--------------------------------------------------------------------------------\n"
     ]
    }
   ],
   "source": [
    "for ind in range(5):\n",
    "    print()\n",
    "    print(f\" product name : {df.iloc[ind, 0]} \".center(80, ' '))\n",
    "    print()\n",
    "    print(df.iloc[ind, -1])\n",
    "    print()\n",
    "    print('-' * 80)"
   ]
  },
  {
   "cell_type": "markdown",
   "id": "357839fb",
   "metadata": {},
   "source": [
    "### creating a document and documentArray"
   ]
  },
  {
   "cell_type": "code",
   "execution_count": 6,
   "id": "75e74248",
   "metadata": {},
   "outputs": [],
   "source": [
    "# basic document \n",
    "\n",
    "# Document(text = 'something')  # use it for strings \n",
    "# Document(content = 'something') # use it when you dont know what type of jina data type it is \n",
    "# Document(blob = 'img, vid, audio') # use it for images, audios and videos\n",
    "# Document(uri = 'local file path or url link') # can be any form a local or remote link"
   ]
  },
  {
   "cell_type": "code",
   "execution_count": 20,
   "id": "abb57ce8",
   "metadata": {},
   "outputs": [
    {
     "data": {
      "text/plain": [
       "<jina.types.arrays.document.DocumentArray length=25873 at 139829446576448>"
      ]
     },
     "execution_count": 20,
     "metadata": {},
     "output_type": "execute_result"
    }
   ],
   "source": [
    "docs = DocumentArray()\n",
    "for ind in range(df.shape[0]):\n",
    "    name = df.iloc[ind, 0]\n",
    "    desc = df.iloc[ind, -1]\n",
    "    doc = Document(text = name)\n",
    "    doc.tags['description'] = desc\n",
    "    docs.append(doc)\n",
    "    \n",
    "docs"
   ]
  },
  {
   "cell_type": "code",
   "execution_count": 8,
   "id": "54b0b47b",
   "metadata": {},
   "outputs": [
    {
     "data": {
      "text/plain": [
       "'{\\n  \"id\": \"e093cbae-34e4-11ec-9c56-18dbf233429c\",\\n  \"mime_type\": \"text/plain\",\\n  \"tags\": {\\n    \"description\": \"Prescription Diet u/d is clinical nutrition specially formulated to reduce risk of urate and cystine stones in dogs. It\\\\u2019s made in the USA with global ingredients you can trust, and was developed by Hill\\\\u2019s nutritionists and veterinarians. Please consult your veterinarian for further information on how Prescription Diet foods can help your dog continue to enjoy a happy and active life.\"\\n  },\\n  \"text\": \"HILL\\'S PRESCRIPTION DIET u/d Urinary Care Dog Food\"\\n}'"
      ]
     },
     "execution_count": 8,
     "metadata": {},
     "output_type": "execute_result"
    }
   ],
   "source": [
    "docs[0].json()"
   ]
  },
  {
   "cell_type": "code",
   "execution_count": 9,
   "id": "50607157",
   "metadata": {},
   "outputs": [
    {
     "data": {
      "text/plain": [
       "\"HILL'S PRESCRIPTION DIET u/d Urinary Care Dog Food\""
      ]
     },
     "execution_count": 9,
     "metadata": {},
     "output_type": "execute_result"
    }
   ],
   "source": [
    "docs[0].text"
   ]
  },
  {
   "cell_type": "markdown",
   "id": "d17c3bc5",
   "metadata": {},
   "source": [
    "### creating your own executor"
   ]
  },
  {
   "cell_type": "code",
   "execution_count": 22,
   "id": "395d9819",
   "metadata": {},
   "outputs": [],
   "source": [
    "class Clean(Executor):\n",
    "    @requests\n",
    "    def clean(self, docs, parameters, **kwargs):\n",
    "        print(parameters)\n",
    "        return DocumentArray(list(filter(lambda x : len(x.text) > 0, docs)))"
   ]
  },
  {
   "cell_type": "markdown",
   "id": "57078327",
   "metadata": {},
   "source": [
    "### Flow"
   ]
  },
  {
   "cell_type": "code",
   "execution_count": 23,
   "id": "e58b4755",
   "metadata": {},
   "outputs": [],
   "source": [
    "model = \"sentence-transformers/paraphrase-distilroberta-base-v1\"\n",
    "\n",
    "flow = (\n",
    "    Flow()\n",
    "    .add(\n",
    "        name = 'clean_text',\n",
    "        uses = Clean\n",
    "    )\n",
    "    .add(\n",
    "        name=\"error_text_encoder\",\n",
    "        uses=\"jinahub://TransformerTorchEncoder\",\n",
    "        uses_with={\"pretrained_model_name_or_path\": model},\n",
    "    )\n",
    "    .add(\n",
    "        name=\"error_text_indexer\",\n",
    "        uses='jinahub://SimpleIndexer',\n",
    "    )\n",
    ")"
   ]
  },
  {
   "cell_type": "code",
   "execution_count": 21,
   "id": "484be908",
   "metadata": {},
   "outputs": [
    {
     "data": {
      "text/plain": [
       "<jina.types.arrays.document.DocumentArray length=1000 at 139829446519248>"
      ]
     },
     "execution_count": 21,
     "metadata": {},
     "output_type": "execute_result"
    }
   ],
   "source": [
    "docs = docs[:1000]\n",
    "docs"
   ]
  },
  {
   "cell_type": "code",
   "execution_count": null,
   "id": "a6e513d9",
   "metadata": {},
   "outputs": [],
   "source": [
    "for i in range(3):\n",
    "    print(i.text)"
   ]
  },
  {
   "cell_type": "markdown",
   "id": "9b532edb",
   "metadata": {},
   "source": [
    "### indexing "
   ]
  },
  {
   "cell_type": "code",
   "execution_count": 13,
   "id": "84f61c5b",
   "metadata": {},
   "outputs": [
    {
     "data": {
      "text/html": [
       "<pre style=\"white-space:pre;overflow-x:auto;line-height:normal;font-family:Menlo,'DejaVu Sans Mono',consolas,'Courier New',monospace\"></pre>\n"
      ],
      "text/plain": []
     },
     "metadata": {},
     "output_type": "display_data"
    },
    {
     "data": {
      "text/html": [
       "<pre style=\"white-space:pre;overflow-x:auto;line-height:normal;font-family:Menlo,'DejaVu Sans Mono',consolas,'Courier New',monospace\"></pre>\n"
      ],
      "text/plain": []
     },
     "metadata": {},
     "output_type": "display_data"
    },
    {
     "name": "stdout",
     "output_type": "stream",
     "text": [
      "           Flow@12347[I]:\u001b[32m🎉 Flow is ready to use!\u001b[0m                                          \n",
      "\t🔗 Protocol: \t\t\u001b[1mGRPC\u001b[0m\n",
      "\t🏠 Local access:\t\u001b[4m\u001b[36m0.0.0.0:49839\u001b[0m\n",
      "\t🔒 Private network:\t\u001b[4m\u001b[36m192.168.1.42:49839\u001b[0m\u001b[0m\n",
      "{'name': 'somethign'}\n"
     ]
    }
   ],
   "source": [
    "!rm -rf workspace\n",
    "\n",
    "with flow:\n",
    "    flow.index(\n",
    "      inputs=docs,\n",
    "        docs = docs,\n",
    "        parameters = {'name' : 'somethign', 'xyz' : 'fsdfsdfsa'}\n",
    "  )"
   ]
  },
  {
   "cell_type": "markdown",
   "id": "161f182c",
   "metadata": {},
   "source": [
    "### querying "
   ]
  },
  {
   "cell_type": "code",
   "execution_count": 18,
   "id": "03284909",
   "metadata": {},
   "outputs": [
    {
     "name": "stdout",
     "output_type": "stream",
     "text": [
      "Query product : printer\n",
      "           Flow@12347[I]:\u001b[32m🎉 Flow is ready to use!\u001b[0m                                          \n",
      "\t🔗 Protocol: \t\t\u001b[1mGRPC\u001b[0m\n",
      "\t🏠 Local access:\t\u001b[4m\u001b[36m0.0.0.0:49759\u001b[0m\n",
      "\t🔒 Private network:\t\u001b[4m\u001b[36m192.168.1.42:49759\u001b[0m\u001b[0m\n",
      "{}\n"
     ]
    }
   ],
   "source": [
    "query = Document(text = input('Query product : '))\n",
    "with flow:\n",
    "    response = flow.search(inputs = query, return_results = True)"
   ]
  },
  {
   "cell_type": "markdown",
   "id": "34a8b4f5",
   "metadata": {},
   "source": [
    "### finding the best match"
   ]
  },
  {
   "cell_type": "code",
   "execution_count": 16,
   "id": "b5a10474",
   "metadata": {},
   "outputs": [
    {
     "data": {
      "text/plain": [
       "<jina.types.arrays.match.MatchArray length=20 at 139829488721536>"
      ]
     },
     "execution_count": 16,
     "metadata": {},
     "output_type": "execute_result"
    }
   ],
   "source": [
    "matches = response[0].docs[0].matches\n",
    "matches"
   ]
  },
  {
   "cell_type": "code",
   "execution_count": 19,
   "id": "b2ca65af",
   "metadata": {
    "scrolled": false
   },
   "outputs": [
    {
     "name": "stdout",
     "output_type": "stream",
     "text": [
      "\n",
      "              product name : Scenic Nature Stationery - Pack of 48              \n",
      "\n",
      "Professionally printed Scenic Stationery. 4 unique scenes from nature, 12 of each for a total of 48. Measure 8.5 x 11 inches. Works through all printers and copiers. Images are ghosted to be printed on. Also can be handwritten. Perfect for personalized letters, projects, and poetry. Professionally printed in USA on premium 70 lb. bright white smooth text stock.\n",
      "\n",
      "--------------------------------------------------------------------------------\n",
      "\n",
      " product name : Canson 100510926 XL Mix Media Paper Pad, 98 Pound, 7 x 10 Inch, 60 Sheets \n",
      "\n",
      "Canson XL Mix Media Pads were developed as the answer to the demand for a heavyweight, fine texture paper with heavy sizing for wet and dry media. This paper can be used for: sketching, drawing, light washes of ink and watercolor, collage, journaling, and more. It has quickly become the most popular paper in the Canson paper family. Mix Media paper erases well and blends easily. The wire bound pads have micro perforated, true size sheets. These pads were developed in consultation with art professors and combine performance with value for the art student. These pads contain 60 sheets of 98 pound/160 gram paper, acid free, 7 x 10 inch paper.\n",
      "\n",
      "--------------------------------------------------------------------------------\n",
      "\n",
      " product name : hp Printer Paper | 8.5 x 11 Paper | Office 20 lb | 1 Ream - 500 Sheets | 92 Bright | Made in USA - FSC Certified | 172160R \n",
      "\n",
      "HP Papers is a premium line of uncoated printing paper optimized to provide superior print paper performance when used with HP hardware and supplies and in all other makes and models of printing and copying equipment. Launched in 1996, HP Papers are manufactured and marketed exclusively worldwide in over 75 countries by International Paper, a globally recognized leader in paper products, under license from the Hewlett-Packard Company. With a diverse range of products designed to support a wide range of print applications, from everyday copies to full-color presentations, you can be assured of consistent, high-quality print performance every time. HP Office20 Paper is a 20 lb., super smooth, economical and multipurpose paper for everyday printing at home, at school and in the office. HP Office20 was created specifically for high-volume black and white printing and copying. Engineered with ColorLok Technology HP Office20 paper provides brighter colors and bolder blacks for great-looking reports and impressive business documents. HP Office20 printer paper is available in 8.5 x 11 letter size paper, 8.5 x 11.3 hole punched letter size paper, and 8. 5 x 14 legal size paper.Acid free paper – HP Office 20lb print and copy paper prevents yellowing over time to ensure a long-lasting appearance for added archival quality.\n",
      "\n",
      "--------------------------------------------------------------------------------\n",
      "\n",
      " product name : Marble Stationery Paper, Printer Friendly Decorative Letterhead (8.5x11 In, 48 Sheets) \n",
      "\n",
      "When you want to write or print something and give it a special touch, reach for these marble pattern stationary papers. At 100gsm, it's easy to manipulate and feels just like standard household printer paper. Use it like writing paper or printer paper, it's your choice.\n",
      "\n",
      "--------------------------------------------------------------------------------\n",
      "\n",
      " product name : Tropical Beach Scene Stationery - 8.5 x 11-60 Tropical Letterhead Sheets - Tropcial Theme Letterhead \n",
      "\n",
      "Fun tropcial stationery to use for letters, invitations or any creative idea that comes to mind. Make your letters stand out with this fun letterhead paper. .\n",
      "\n",
      "--------------------------------------------------------------------------------\n",
      "\n",
      " product name : Rustic Stationery - 8.5 x 11-60 Letterhead Sheets - Flowers and Barnwood Letterhead (Purple Flowers) \n",
      "\n",
      "Rustic wood and floral stationery to use for letters, invitations or any creative idea that comes to mind. Make your letters stand out with this fun letterhead paper. .\n",
      "\n",
      "--------------------------------------------------------------------------------\n",
      "\n",
      " product name : Halloween Stationery - 8.5 x 11-60 Letterhead Sheets - Halloween Printer Paper \n",
      "\n",
      "Fun Halloween stationery to use for letters, invitations or any creative idea that comes to mind. Make your letters stand out with this fun letterhead paper. Stationery measures 8.5 x 11 inches each and have 60 sheets per pack\n",
      "\n",
      "--------------------------------------------------------------------------------\n",
      "\n",
      "            product name : Wysong Uretic - Dry Natural Food for Cats            \n",
      "\n",
      "Uretic has achieved extraordinary results in tens of thousands through multiple generations for over thirty years. It was created by Dr. Wysong and owes its popularity solely to veterinary recommendation and word of mouth. By targeting wellness, immune and urinary systems, Uretic has proven itself as a diet that creates robust vitality. This improved formulation is designed to take advantage of new processing methods to preserve natural value, and nutritional advances related to epigenetics and nutrigenomics. Uretic now contains higher levels of fresh/frozen and dried meats and organs, protein, and fat, and a comprehensive spectrum and higher levels of micronutrients/nutraceuticals including prebiotics, probiotics, enzymes, omega-3s, antioxidants and more. Excess minerals are eliminated, natural sourced, urinary-important methionine are added, and small quantities of fruits and vegetables mimic what may be consumed in the viscera of prey, and contribute important vitamins, minerals, antioxidants and other nutrients.\n",
      "\n",
      "--------------------------------------------------------------------------------\n",
      "\n",
      " product name : Flexible Grabber Claw Pick Up Reacher Tool With 4 Claws Bendable Hose Pickup Reaching Assist Tool for Litter Pick, Home Sink, Drains, Toilet (35.4inch) \n",
      "\n",
      "Details 1.Get The Easy Grabber, Retriever and Pick-up Tool. 2.Long Available: 90cm Grabber Reacher Tool .  Use For 1.Great grabber tool to clean drain. It works like a plumbing snake but with a difference, to grab the hairs to easily clear the clog.  2.Flexible pick up tool snag & pull out hair, food, garbage, or other obstacles that cause a clogged drain.  3.The Grabber also helps with easily lifting the nails, screws, bolts & nuts that fall on the ground & not easily accessible.\n",
      "\n",
      "--------------------------------------------------------------------------------\n",
      "\n",
      " product name : OFNMY Vintage Paper and Envelopes, Double-side Writing Stationery Paper Letter Set - 60 Sheets of Old Fashion Aged Classic Vintage Letter Papers & 60 Envelopes for Writing,Printing,Crafting \n",
      "\n",
      "60 Sets of Vintage Stationary Paper and Envelopes Set  ★ Product Specification: - Envelope Material: Daolin Paper - Envelope Size: 8.6”x 4.3” (22cm x11cm) - Writing Paper Size: 11”x8.2” (28.5cm x 21cm) ★ Most Popular Using: - Perfect for mailing maps, certificates, invitations, poetry scrolls, poems, lyrics, treasure hunts, menus, letters to Santa, and much more - Great for mailing private or business-related documents, catalogs, direct mail, promotional material, brochures, letters and more - Multi Purpose: Ideal for old-fashioned style weddings, anniversaries or graduation letters, thank you notes, announcements and more - Others ★ Package Include: 60 x Vintage letter papers 60 x Envelopes\n",
      "\n",
      "--------------------------------------------------------------------------------\n",
      "\n",
      " product name : IMagicoo 48 Cute Lovely Writing Stationery Paper Letter Set with 24 Envelope/Envelope Seal Sticker (8) \n",
      "\n",
      "Package include: 1x 48 pcs Writting Paper + 24 Envelope + 24 Envelope Seal Sticker Set\n",
      "\n",
      "--------------------------------------------------------------------------------\n",
      "\n",
      " product name : Stationery Paper and Envelopes Set of 48 Rose Watercolor Letter Writing Paper, Decorative Printer Stationery Sheets with Assorted Designs - Double-sided Printing - 8.5 x 11 Inch \n",
      "\n",
      "Package include: 48 sheets rose watercolor stationery paper & 24 self-sticking envelopes\n",
      "\n",
      "--------------------------------------------------------------------------------\n",
      "\n",
      "  product name : Blank White 7\" x 10\" Paper - Executive Size - 250 Sheet Pack   \n",
      "\n",
      "Desktop Publishing Supplies, Inc. brand 7\" x 10\" Executive size paper is great for writing business and personal letters. This unique size is also great for making DIY Memo Note Pads, Sketchbooks, or Planners. This letterhead paper is made from a bright 28lb bond paper stock and measures 7\" x 10\". Compatible with inkjet & laser printers.\n",
      "\n",
      "--------------------------------------------------------------------------------\n",
      "\n",
      " product name : Rustic Barnwood Stationery - 8.5 x 11 - 60 Letterhead Sheets - Rustic Letterhead \n",
      "\n",
      "Rusticstationery to use for letters, invitations or any creative idea that comes to mind. Make your letters stand out with this fun letterhead paper. Stationery measures 8.5 x 11 inches each and have 60 sheets per pack\n",
      "\n",
      "--------------------------------------------------------------------------------\n",
      "\n",
      " product name : DLOnline 80 Pcs Writing Stationery Paper and Envelopes,Letter Set,8 Styles of Ink Painting Classic Vintage Antique(64 Letter Paper + 16 Envelopes) \n",
      "\n",
      " , 64 x Chinese style writing paper , 16 x Matching ink painting design envelopes ,  ,  , Fancy paper:10.2 x 7.3 in/26 X 18.5cm; , Envelopes:8.46 x 4.33in/21.5X 11cm ,  ,  , As shown in the picture. ,  ,  , These beautiful letter paper and envelopes are Versatile! , They are not only used to write a letter,but also send business invitations,party invitations,bless message, thank-you note,etc. , They also can be used for calligraphy and graffiti in your daily life. ,  ,  , We're not sure whether these envelopes can be used to send mail. Please consult your post office. ,  , Stationery is ink jet printable. But please note that the size is smaller than A4 paper, so the page size needs to be adjusted before printing anything. Please double check the sizes before purchasing.\n",
      "\n",
      "--------------------------------------------------------------------------------\n",
      "\n",
      " product name : Great Papers! 8.5\" x 11\" Imprintable Stationery, Halloween Who (2014051) \n",
      "\n",
      "This colorful 8.5\" x 11\" holiday paper is perfect for creating your own invitations, announcements and personal messages. Paper is compatible with most inkjet and laser printers.\n",
      "\n",
      "--------------------------------------------------------------------------------\n",
      "\n",
      " product name : Autumn Pumpkin Harvest Stationery Paper - 80 Sheets - Fall Letterhead for Festivals & Thanksgiving \n",
      "\n",
      "Autumn Pumpkin Harvest Stationery Paper works as a great background for your invitations, letters, flyers, and more. This Fall themed paper features pumkins, wheat, and tomatoes over a dark wood background. This Fall letterhead measures 8 1/2\" x 11\"and is made from a heavyweight 28lb bond paper stock (105 gsm). Inkjet & laser printer compatible. , \n",
      "\n",
      "--------------------------------------------------------------------------------\n",
      "\n",
      " product name : Beach Stationery - 8.5 x 11-60 Beach Letterhead Sheets - Umbrella & Chair Ocean Beach View \n",
      "\n",
      "Fun beach stationery to use for letters, invitations or any creative idea that comes to mind. Make your letters stand out with this fun letterhead paper. .\n",
      "\n",
      "--------------------------------------------------------------------------------\n",
      "\n",
      " product name : Bolbove 64 Pcs Lovely Flower Cute Plant Elegant Letter Writing Stationery White Paper Lined Sheets (Peach Blossom) \n",
      "\n",
      "These Writing Sheets are perfect for Letters, Notes, Arts, Crafts, Certificates, Invitations, Poetry Scrolls, Calligraphy, graffiti, etc. , Package included: ,  64 pcs Writing Paper (Total 8 Packs - Each Pack contains 8 Writing Paper) , 1*Silver Metal Bolbove Keychain\n",
      "\n",
      "--------------------------------------------------------------------------------\n",
      "\n",
      " product name : 48PCS DLOnline Writing Stationery Paper, Letter Writing Paper Letter Sets Writing Paper,Stationary Paper,Letter Paper,Letter Paper Vintage,Letter Writing Paper,Paper Products,Letter Paper Stationary \n",
      "\n",
      "Package Included:48 paper , Size:7.28”*10.23” (18.5 cm*26 cm) , There are 6 different patterns in the package, you may have more choices for different application.\n",
      "\n",
      "--------------------------------------------------------------------------------\n"
     ]
    }
   ],
   "source": [
    "for m in matches:\n",
    "    print()\n",
    "    print(f\" product name : {m.text} \".center(80, ' '))\n",
    "    print()\n",
    "    print(m.tags['description'])\n",
    "    print()\n",
    "    print('-' * 80)"
   ]
  },
  {
   "cell_type": "code",
   "execution_count": null,
   "id": "b23d108d",
   "metadata": {},
   "outputs": [],
   "source": []
  }
 ],
 "metadata": {
  "kernelspec": {
   "display_name": "Python 3 (ipykernel)",
   "language": "python",
   "name": "python3"
  },
  "language_info": {
   "codemirror_mode": {
    "name": "ipython",
    "version": 3
   },
   "file_extension": ".py",
   "mimetype": "text/x-python",
   "name": "python",
   "nbconvert_exporter": "python",
   "pygments_lexer": "ipython3",
   "version": "3.9.7"
  }
 },
 "nbformat": 4,
 "nbformat_minor": 5
}
